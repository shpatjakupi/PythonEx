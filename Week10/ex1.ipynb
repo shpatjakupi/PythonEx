{
 "cells": [
  {
   "cell_type": "code",
   "execution_count": null,
   "metadata": {},
   "outputs": [],
   "source": [
    "import pandas as pd \n",
    "import numpy as np\n",
    "titanic_data = pd.read_csv('titanic_train.csv')\n",
    "titanic_data.head()"
   ]
  },
  {
   "cell_type": "code",
   "execution_count": null,
   "metadata": {},
   "outputs": [],
   "source": [
    "# Drop irrelevant columns\n",
    "titanic_data.drop(['PassengerId','Name','Ticket','Cabin'],'columns',inplace=True)\n",
    "titanic_data.head()"
   ]
  },
  {
   "cell_type": "code",
   "execution_count": null,
   "metadata": {},
   "outputs": [],
   "source": [
    "from sklearn import preprocessing\n",
    "# Convert gender to 0 or 1\n",
    "label_enc =preprocessing.LabelEncoder()\n",
    "titanic_data['Sex'] = label_enc.fit_transform(titanic_data['Sex'].astype(str))\n",
    "titanic_data.head()"
   ]
  },
  {
   "cell_type": "code",
   "execution_count": null,
   "metadata": {},
   "outputs": [],
   "source": [
    "# One-hot encoding of 'Embarked' with pd.get_dummies\n",
    "titanic_data = pd.get_dummies(titanic_data,columns=['Embarked'])\n",
    "titanic_data.head()"
   ]
  },
  {
   "cell_type": "code",
   "execution_count": null,
   "metadata": {},
   "outputs": [],
   "source": [
    "\n",
    "# Find missing values in the data and drop those rows:\n",
    "print('rows before drop n/a',len(titanic_data))\n",
    "bool_matrix = titanic_data.isnull() # dataframe with True and False values for each cell in the titanic_data\n",
    "only_null_filter = bool_matrix.any(axis=1) # is there a True value in any column in each row. returns a pandas Series with index matching index of titcanic dataframe\n",
    "missing = titanic_data[only_null_filter] # show all rows that has one or more null values\n",
    "titanic_data = titanic_data.dropna()\n",
    "print('rows after',len(titanic_data))\n",
    "titanic_data\n",
    "pd.options.display.max_rows = None # let me see all rows in the dataframe (can be used with columns too)\n",
    "bool_matrix\n",
    "titanic_data"
   ]
  },
  {
   "cell_type": "code",
   "execution_count": null,
   "metadata": {},
   "outputs": [],
   "source": [
    "only_null_filter"
   ]
  },
  {
   "cell_type": "code",
   "execution_count": null,
   "metadata": {},
   "outputs": [],
   "source": [
    "# what is the best bandwidth to use for our dataset?\n",
    "# The smaller values of bandwith result in tall skinny kernels & larger values result in short fat kernels.\n",
    "from sklearn.cluster import estimate_bandwidth\n",
    "estimate_bandwidth(titanic_data)"
   ]
  },
  {
   "cell_type": "code",
   "execution_count": null,
   "metadata": {},
   "outputs": [],
   "source": [
    "\n",
    "from sklearn.cluster import MeanShift\n",
    "analyzer = MeanShift(bandwidth=30) \n",
    "analyzer.fit(titanic_data)"
   ]
  },
  {
   "cell_type": "code",
   "execution_count": null,
   "metadata": {},
   "outputs": [],
   "source": [
    "# 5 clusters\n",
    "labels = analyzer.labels_\n",
    "print(labels)\n",
    "print('\\n\\n',np.unique(labels))"
   ]
  },
  {
   "cell_type": "code",
   "execution_count": null,
   "metadata": {},
   "outputs": [],
   "source": [
    "\n",
    "#We will add a new column in dataset which shows the cluster the data of a particular row belongs to.\n",
    "\n",
    "titanic_data['cluster_group'] = np.nan\n",
    "data_length=len(titanic_data)\n",
    "for i in range(data_length): # loop 714 rows\n",
    "    titanic_data.iloc[i,titanic_data.columns.get_loc('cluster_group')] = labels[i] #set the cluster label on each row\n",
    "\n",
    "titanic_data.head()"
   ]
  },
  {
   "cell_type": "code",
   "execution_count": null,
   "metadata": {},
   "outputs": [],
   "source": [
    "\n",
    "#Grouping passengers by Cluster\n",
    "titanic_cluster_data = titanic_data.groupby(['cluster_group']).mean()\n",
    "#Count of passengers in each cluster\n",
    "titanic_cluster_data['Counts'] = pd.Series(titanic_data.groupby(['cluster_group']).size())\n",
    "titanic_cluster_data"
   ]
  }
 ],
 "metadata": {
  "language_info": {
   "codemirror_mode": {
    "name": "ipython",
    "version": 3
   },
   "file_extension": ".py",
   "mimetype": "text/x-python",
   "name": "python",
   "nbconvert_exporter": "python",
   "pygments_lexer": "ipython3",
   "version": 3
  },
  "orig_nbformat": 2
 },
 "nbformat": 4,
 "nbformat_minor": 2
}