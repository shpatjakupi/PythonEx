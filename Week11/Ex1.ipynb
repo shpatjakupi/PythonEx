{
 "cells": [
  {
   "cell_type": "code",
   "execution_count": null,
   "metadata": {},
   "outputs": [],
   "source": [
    "import perceptron as pc\n",
    "import numpy as np\n",
    "import matplotlib.pyplot as plt\n",
    "\n",
    "rnge = np.linspace(-10.0, 10.0, num=1000)\n",
    "print(rnge[0:5])\n",
    "values = [pc.activation_function(i) for i in rnge]\n",
    "plt.plot(rnge, values)\n",
    "plt.axis([-10, 9, -2, 2])\n"
   ]
  }
 ],
 "metadata": {
  "language_info": {
   "codemirror_mode": {
    "name": "ipython",
    "version": 3
   },
   "file_extension": ".py",
   "mimetype": "text/x-python",
   "name": "python",
   "nbconvert_exporter": "python",
   "pygments_lexer": "ipython3",
   "version": 3
  },
  "orig_nbformat": 2
 },
 "nbformat": 4,
 "nbformat_minor": 2
}