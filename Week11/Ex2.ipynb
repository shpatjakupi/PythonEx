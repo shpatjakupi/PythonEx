{
 "cells": [
  {
   "cell_type": "code",
   "execution_count": null,
   "metadata": {},
   "outputs": [],
   "source": [
    "import pandas as pd\n",
    "import perceptron as pc\n",
    "\n",
    "rodent_data = pd.read_csv('rodents.csv', sep=';')\n",
    "rodent_data = rodent_data.dropna()\n",
    "rodent_data['type'] = rodent_data['type'].apply(lambda t: 1 if str(t).strip()=='rat' else -1)\n",
    "\n",
    "\n",
    "\n",
    "rodent_data.plot.scatter(x='weight',\n",
    "                      y='height',\n",
    "                      c='type',colormap='viridis')"
   ]
  },
  {
   "cell_type": "code",
   "execution_count": null,
   "metadata": {},
   "outputs": [],
   "source": [
    "def predict(inp_vec, weights):\n",
    "    \"\"\"\n",
    "    Parameters:\n",
    "    inp_vec:\n",
    "        An input vector consisting of sepal length and width\n",
    "    weights:\n",
    "        A vector of same length as inp_vec, containing a weight for each input\n",
    "    return:\n",
    "        A class label, either 1 for 'setosa' or -1 for 'other'\n",
    "    \"\"\"\n",
    "    \n",
    "    class_label_prediction = pc.perceptron(inp_vec, weights)\n",
    "    return class_label_prediction\n",
    "\n",
    "\n",
    "weights =  [40, -190]\n",
    "test_data = [[231.32446731816555,26.03382997978225],\n",
    "[17.906954059999567,6.846576762459397],\n",
    "[230.276522831171,24.077799766119398]]\n",
    "for t in test_data:\n",
    "    print(predict(t,weights))"
   ]
  }
 ],
 "metadata": {
  "language_info": {
   "codemirror_mode": {
    "name": "ipython",
    "version": 3
   },
   "file_extension": ".py",
   "mimetype": "text/x-python",
   "name": "python",
   "nbconvert_exporter": "python",
   "pygments_lexer": "ipython3",
   "version": 3
  },
  "orig_nbformat": 2
 },
 "nbformat": 4,
 "nbformat_minor": 2
}