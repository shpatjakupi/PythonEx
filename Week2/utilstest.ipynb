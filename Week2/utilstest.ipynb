{
 "nbformat": 4,
 "nbformat_minor": 2,
 "metadata": {
  "language_info": {
   "name": "python",
   "codemirror_mode": {
    "name": "ipython",
    "version": 3
   },
   "version": "3.7.4-final"
  },
  "orig_nbformat": 2,
  "file_extension": ".py",
  "mimetype": "text/x-python",
  "name": "python",
  "npconvert_exporter": "python",
  "pygments_lexer": "ipython3",
  "version": 3,
  "kernelspec": {
   "name": "python37464bitbaseconda980c302333d140faa16bb8472d0c9927",
   "display_name": "Python 3.7.4 64-bit ('base': conda)"
  }
 },
 "cells": [
  {
   "cell_type": "code",
   "execution_count": 11,
   "metadata": {},
   "outputs": [
    {
     "output_type": "execute_result",
     "data": {
      "text/plain": "<module 'utils' from 'c:\\\\Users\\\\minma\\\\Documents\\\\Python assignments\\\\utils.py'>"
     },
     "metadata": {},
     "execution_count": 11
    }
   ],
   "source": [
    "import utils\n",
    "from importlib import reload\n",
    "reload(utils)"
   ]
  },
  {
   "cell_type": "code",
   "execution_count": 7,
   "metadata": {},
   "outputs": [],
   "source": [
    "utils.write_foldercontent_to_file('c:\\\\Users\\\\minma\\\\Documents\\\\Python assignments', 'test4.txt')"
   ]
  },
  {
   "cell_type": "code",
   "execution_count": 3,
   "metadata": {},
   "outputs": [],
   "source": [
    "utils.write_foldercontent_to_file_with_dir('c:\\\\Users\\\\minma\\\\Documents\\\\Python assignments', 'test4.txt')"
   ]
  },
  {
   "cell_type": "code",
   "execution_count": 6,
   "metadata": {},
   "outputs": [
    {
     "output_type": "stream",
     "name": "stdout",
     "text": "3.1415926535\n\ntest\n\n3.1415926535\n\n"
    }
   ],
   "source": [
    "utils.print_firstline_of_files(['test.txt', 'test2.txt', 'test3.txt'])"
   ]
  },
  {
   "cell_type": "code",
   "execution_count": 8,
   "metadata": {},
   "outputs": [
    {
     "output_type": "stream",
     "name": "stdout",
     "text": "test2@\n\n"
    }
   ],
   "source": [
    "utils.print_emails_of_files(['test.txt', 'test2.txt', 'test3.txt'])"
   ]
  },
  {
   "cell_type": "code",
   "execution_count": 13,
   "metadata": {},
   "outputs": [
    {
     "output_type": "stream",
     "name": "stdout",
     "text": "#  2643383279\n\n"
    }
   ],
   "source": [
    "utils.print_header_of_files(['test.txt', 'test2.txt', 'test3.txt'])\n",
    ""
   ]
  },
  {
   "cell_type": "code",
   "execution_count": null,
   "metadata": {},
   "outputs": [],
   "source": []
  }
 ]
}