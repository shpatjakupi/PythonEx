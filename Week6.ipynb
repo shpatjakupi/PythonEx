{
 "cells": [
  {
   "cell_type": "code",
   "execution_count": 2,
   "metadata": {},
   "outputs": [
    {
     "output_type": "error",
     "ename": "ModuleNotFoundError",
     "evalue": "No module named 'wget'",
     "traceback": [
      "\u001b[0;31m---------------------------------------------------------------------------\u001b[0m",
      "\u001b[0;31mModuleNotFoundError\u001b[0m                       Traceback (most recent call last)",
      "\u001b[0;32m<ipython-input-2-077ec6c1aa4b>\u001b[0m in \u001b[0;36m<module>\u001b[0;34m\u001b[0m\n\u001b[0;32m----> 1\u001b[0;31m \u001b[0;32mimport\u001b[0m \u001b[0mwget\u001b[0m\u001b[0;34m\u001b[0m\u001b[0;34m\u001b[0m\u001b[0m\n\u001b[0m\u001b[1;32m      2\u001b[0m \u001b[0;32mfrom\u001b[0m \u001b[0mconcurrent\u001b[0m\u001b[0;34m.\u001b[0m\u001b[0mfutures\u001b[0m \u001b[0;32mimport\u001b[0m \u001b[0mThreadPoolExecutor\u001b[0m\u001b[0;34m\u001b[0m\u001b[0;34m\u001b[0m\u001b[0m\n\u001b[1;32m      3\u001b[0m \u001b[0;34m\u001b[0m\u001b[0m\n\u001b[1;32m      4\u001b[0m \u001b[0;32mclass\u001b[0m \u001b[0mNotFoundException\u001b[0m\u001b[0;34m(\u001b[0m\u001b[0mValueError\u001b[0m\u001b[0;34m)\u001b[0m\u001b[0;34m:\u001b[0m\u001b[0;34m\u001b[0m\u001b[0;34m\u001b[0m\u001b[0m\n\u001b[1;32m      5\u001b[0m     \u001b[0;32mdef\u001b[0m \u001b[0m__init__\u001b[0m\u001b[0;34m(\u001b[0m\u001b[0mself\u001b[0m\u001b[0;34m,\u001b[0m \u001b[0;34m*\u001b[0m\u001b[0margs\u001b[0m\u001b[0;34m,\u001b[0m \u001b[0;34m**\u001b[0m\u001b[0mkwargs\u001b[0m\u001b[0;34m)\u001b[0m\u001b[0;34m:\u001b[0m\u001b[0;34m\u001b[0m\u001b[0;34m\u001b[0m\u001b[0m\n",
      "\u001b[0;31mModuleNotFoundError\u001b[0m: No module named 'wget'"
     ]
    }
   ],
   "source": [
    "#import wget\n",
    "from concurrent.futures import ThreadPoolExecutor\n",
    "\n",
    "class NotFoundException(ValueError):\n",
    "    def __init__(self, *args, **kwargs):\n",
    "        ValueError.__init__(self, *args, **kwargs)\n",
    "\n",
    "class Exercise6():\n",
    "    def __init__(self, url_list):\n",
    "        self.url_list = url_list\n",
    "        self.filenames = [] \n",
    "    \n",
    "    def download(self, url, filename=None):\n",
    "        try:\n",
    "            return wget.download(url, filename)\n",
    "        except:\n",
    "            raise NotFoundException('Not found')\n",
    "\n",
    "    def multi_download(self):\n",
    "        def multithreading(func, args, workers=5):\n",
    "            with ThreadPoolExecutor(workers) as ex:\n",
    "                res = ex.map(func, args)\n",
    "            return list(res)\n",
    "\n",
    "        multi = multithreading(self.download, self.url_list)\n",
    "        self.filenames = multi\n",
    "        return multi\n",
    "    \n",
    "    def __iter__(self):\n",
    "        self.index = 0\n",
    "        return self\n",
    "\n",
    "    def __next__(self):\n",
    "        n = self.index\n",
    "        self.index += 1\n",
    "        if (n < len(self.filenames)):\n",
    "            return self.filenames[n]\n",
    "        else: \n",
    "            raise StopIteration\n",
    "\n",
    "    def urllist_generator(self):\n",
    "        for n in self.url_list:\n",
    "            yield n\n",
    "        \n",
    "    def avg_vowels(self, text):\n",
    "        counter = 0\n",
    "        for char in text:\n",
    "            if (char.lower() in 'aeiouyøæå'):\n",
    "                counter += 1\n",
    "        return counter / len(text)             \n",
    "    "
   ]
  }
 ],
 "metadata": {
  "language_info": {
   "codemirror_mode": {
    "name": "ipython",
    "version": 3
   },
   "file_extension": ".py",
   "mimetype": "text/x-python",
   "name": "python",
   "nbconvert_exporter": "python",
   "pygments_lexer": "ipython3",
   "version": "3.7.4-final"
  },
  "orig_nbformat": 2,
  "kernelspec": {
   "name": "python3",
   "display_name": "Python 3"
  }
 },
 "nbformat": 4,
 "nbformat_minor": 2
}